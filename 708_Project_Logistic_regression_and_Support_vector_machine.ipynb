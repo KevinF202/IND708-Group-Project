{
  "nbformat": 4,
  "nbformat_minor": 0,
  "metadata": {
    "colab": {
      "provenance": []
    },
    "kernelspec": {
      "name": "python3",
      "display_name": "Python 3"
    },
    "language_info": {
      "name": "python"
    }
  },
  "cells": [
    {
      "cell_type": "code",
      "execution_count": 2,
      "metadata": {
        "colab": {
          "base_uri": "https://localhost:8080/"
        },
        "id": "jOi_iLBglRHd",
        "outputId": "7516dc98-87a0-4c1b-8361-9475f20cddde"
      },
      "outputs": [
        {
          "output_type": "stream",
          "name": "stdout",
          "text": [
            "Injury collisions\n",
            "Accuracy:  0.8824460147077332\n",
            "Recall:  0.0\n",
            "Precision 1.0\n",
            "Report:               precision    recall  f1-score   support\n",
            "\n",
            "           0       0.88      1.00      0.94     49079\n",
            "           1       1.00      0.00      0.00      6538\n",
            "\n",
            "    accuracy                           0.88     55617\n",
            "   macro avg       0.94      0.50      0.47     55617\n",
            "weighted avg       0.90      0.88      0.83     55617\n",
            "\n",
            "FTR collisions\n",
            "Accuracy:  0.851340417498247\n",
            "Recall:  0.0\n",
            "Precision 1.0\n",
            "Report:               precision    recall  f1-score   support\n",
            "\n",
            "           0       0.85      1.00      0.92     47349\n",
            "           1       1.00      0.00      0.00      8268\n",
            "\n",
            "    accuracy                           0.85     55617\n",
            "   macro avg       0.93      0.50      0.46     55617\n",
            "weighted avg       0.87      0.85      0.78     55617\n",
            "\n",
            "PD collisions\n",
            "Accuracy:  0.768739773810166\n",
            "Recall:  0.0\n",
            "Precision 1.0\n",
            "Report:               precision    recall  f1-score   support\n",
            "\n",
            "           0       0.77      1.00      0.87     42755\n",
            "           1       1.00      0.00      0.00     12862\n",
            "\n",
            "    accuracy                           0.77     55617\n",
            "   macro avg       0.88      0.50      0.43     55617\n",
            "weighted avg       0.82      0.77      0.67     55617\n",
            "\n"
          ]
        }
      ],
      "source": [
        "#importing libraries \n",
        "import numpy as np\n",
        "import pandas as pd\n",
        "from sklearn.linear_model import LogisticRegression\n",
        "from sklearn import metrics\n",
        "from sklearn.model_selection import train_test_split\n",
        "from sklearn.metrics import classification_report\n",
        "import warnings\n",
        "warnings.filterwarnings(\"ignore\")\n",
        "#reading data\n",
        "data = '/content/Traffic_Collisions.csv'\n",
        "df = pd.read_csv(data)\n",
        "#mapping strings to numerical values\n",
        "df[\"Month\"] = pd.factorize(df.Month)[0] \n",
        "df[\"Day_of_Week\"] = pd.factorize(df.Day_of_Week)[0] \n",
        "df[\"Neighbourhood\"] = pd.factorize(df.Neighbourhood)[0] \n",
        "df[\"Division\"] = pd.factorize(df.Division)[0] \n",
        "df[\"Atom\"] = pd.factorize(df.Atom)[0] \n",
        "df[\"Injury_Collisions\"] = pd.factorize(df.Injury_Collisions)[0] \n",
        "df[\"FTR_Collisions\"] = pd.factorize(df.FTR_Collisions)[0] \n",
        "df[\"PD_Collisions\"] = pd.factorize(df.PD_Collisions)[0] \n",
        "\n",
        "y_data=df['Injury_Collisions']\n",
        "#dropping unecessary columns\n",
        "x_data=df.drop(['Injury_Collisions','OBJECTID','OccurrenceDate','EventUniqueId','ObjectId2'],axis=1)\n",
        "#separating the data into train and test splits \n",
        "x_train, x_test, y_train, y_test = train_test_split(x_data, y_data ,test_size = 0.2, random_state=0)\n",
        "# Predicting Injury Collisions with Logistic regression \n",
        "logreg = LogisticRegression()\n",
        "logreg.fit(x_train, y_train)\n",
        "y_pred = logreg.predict(x_test)\n",
        "print('Injury collisions')\n",
        "#checking the accuracy, recall and precision scores\n",
        "print('Accuracy: ',metrics.accuracy_score(y_test, y_pred))\n",
        "print('Recall: ',metrics.recall_score(y_test, y_pred, zero_division=1))\n",
        "print('Precision',metrics.precision_score(y_test, y_pred, zero_division=1))\n",
        "print('Report:',metrics.classification_report(y_test, y_pred, zero_division=1))\n",
        "\n",
        "# Predicting FTR Collsions with Logistic regression \n",
        "print('FTR collisions')\n",
        "y_data=df['FTR_Collisions']\n",
        "x_data=df.drop(['FTR_Collisions','OBJECTID','OccurrenceDate','EventUniqueId','ObjectId2'],axis=1)\n",
        "x_train, x_test, y_train, y_test = train_test_split(x_data, y_data ,test_size = 0.2, random_state=0)\n",
        "y_pred = logreg.predict(x_test)\n",
        "#checking the accuracy, recall and precision scores\n",
        "print('Accuracy: ',metrics.accuracy_score(y_test, y_pred))\n",
        "print('Recall: ',metrics.recall_score(y_test, y_pred, zero_division=1))\n",
        "print('Precision',metrics.precision_score(y_test, y_pred, zero_division=1))\n",
        "print('Report:',metrics.classification_report(y_test, y_pred, zero_division=1))\n",
        "\n",
        "# Predicting PD Collsions with Logistic regression \n",
        "print('PD collisions')\n",
        "y_data=df['PD_Collisions']\n",
        "x_data=df.drop(['PD_Collisions','OBJECTID','OccurrenceDate','EventUniqueId','ObjectId2'],axis=1)\n",
        "x_train, x_test, y_train, y_test = train_test_split(x_data, y_data ,test_size = 0.2, random_state=0)\n",
        "y_pred = logreg.predict(x_test)\n",
        "#checking the accuracy, recall and precision scores\n",
        "print('Accuracy: ',metrics.accuracy_score(y_test, y_pred))\n",
        "print('Recall: ',metrics.recall_score(y_test, y_pred, zero_division=1))\n",
        "print('Precision',metrics.precision_score(y_test, y_pred, zero_division=1))\n",
        "print('Report:',metrics.classification_report(y_test, y_pred, zero_division=1))\n"
      ]
    },
    {
      "cell_type": "code",
      "source": [
        "#Support vector machine\n",
        "from sklearn.svm import SVC\n",
        "from sklearn.metrics import classification_report, accuracy_score\n",
        "import numpy as np\n",
        "import pandas as pd\n",
        "from sklearn.linear_model import LogisticRegression\n",
        "from sklearn import metrics\n",
        "from sklearn.model_selection import train_test_split\n",
        "import warnings\n",
        "\n",
        "warnings.filterwarnings(\"ignore\")\n",
        "data = '/content/Traffic_Collisions.csv'\n",
        "df = pd.read_csv(data)\n",
        "\n",
        "#SVM takes a very long time with large data sets so only taking a sample of the data\n",
        "df=df.sample(n=25000)\n",
        "#mapping strings to numerical values\n",
        "df[\"Month\"] = pd.factorize(df.Month)[0] \n",
        "df[\"Day_of_Week\"] = pd.factorize(df.Day_of_Week)[0] \n",
        "df[\"Neighbourhood\"] = pd.factorize(df.Neighbourhood)[0] \n",
        "df[\"Injury_Collisions\"] = pd.factorize(df.Injury_Collisions)[0] \n",
        "df[\"FTR_Collisions\"] = pd.factorize(df.FTR_Collisions)[0] \n",
        "df[\"PD_Collisions\"] = pd.factorize(df.PD_Collisions)[0] \n",
        "#Injury Collisions\n",
        "y_data=df['Injury_Collisions']\n",
        "#reduce number of columns so can take a bigger sample\n",
        "x_data=df.drop(['Injury_Collisions','OBJECTID','OccurrenceDate','EventUniqueId','ObjectId2','X','Y','Year','Division','Longitude','Latitude','Atom'],axis=1)\n",
        "\n",
        "x_train, x_test, y_train, y_test = train_test_split(x_data, y_data ,test_size = 0.2, random_state=0)\n",
        "svclassifier = SVC(kernel='linear')\n",
        "svclassifier.fit(x_train, y_train)\n",
        "y_predict = svclassifier.predict(x_test)\n",
        "#checking the accuracy, recall and precision scores\n",
        "accuracy = accuracy_score(y_test,y_predict)\n",
        "print('Injury Collisions')\n",
        "print('Accuracy is',accuracy)\n",
        "print(classification_report(y_test,y_predict))\n",
        "\n",
        "\n",
        "\n",
        "\n",
        "\n"
      ],
      "metadata": {
        "id": "hF1s5JwzEEjh",
        "colab": {
          "base_uri": "https://localhost:8080/"
        },
        "outputId": "3936f1ee-5fcf-4800-f70a-0d557509b503"
      },
      "execution_count": 3,
      "outputs": [
        {
          "output_type": "stream",
          "name": "stdout",
          "text": [
            "Injury Collisions\n",
            "Accuracy is 0.9934\n",
            "              precision    recall  f1-score   support\n",
            "\n",
            "           0       0.99      1.00      1.00      4436\n",
            "           1       1.00      0.94      0.97       564\n",
            "\n",
            "    accuracy                           0.99      5000\n",
            "   macro avg       1.00      0.97      0.98      5000\n",
            "weighted avg       0.99      0.99      0.99      5000\n",
            "\n"
          ]
        }
      ]
    },
    {
      "cell_type": "code",
      "source": [
        "#FTR Collisions\n",
        "y_data=df['FTR_Collisions']\n",
        "#reduce number of columns so can take a bigger sample\n",
        "x_data=df.drop(['FTR_Collisions','OBJECTID','OccurrenceDate','EventUniqueId','ObjectId2','X','Y','Year','Division','Longitude','Latitude','Atom'],axis=1)\n",
        "x_train, x_test, y_train, y_test = train_test_split(x_data, y_data ,test_size = 0.2, random_state=0)\n",
        "svclassifier = SVC(kernel='linear')\n",
        "svclassifier.fit(x_train, y_train)\n",
        "y_predict = svclassifier.predict(x_test)\n",
        "accuracy = accuracy_score(y_test,y_predict)\n",
        "print('FTR Collisions')\n",
        "print('Accuracy is',accuracy)\n",
        "print(classification_report(y_test,y_predict))"
      ],
      "metadata": {
        "colab": {
          "base_uri": "https://localhost:8080/"
        },
        "id": "8YmZL2BJIT69",
        "outputId": "44949570-0a51-4271-a37a-06aa111b25bb"
      },
      "execution_count": 4,
      "outputs": [
        {
          "output_type": "stream",
          "name": "stdout",
          "text": [
            "FTR Collisions\n",
            "Accuracy is 0.9624\n",
            "              precision    recall  f1-score   support\n",
            "\n",
            "           0       0.96      1.00      0.98      4239\n",
            "           1       1.00      0.75      0.86       761\n",
            "\n",
            "    accuracy                           0.96      5000\n",
            "   macro avg       0.98      0.88      0.92      5000\n",
            "weighted avg       0.96      0.96      0.96      5000\n",
            "\n"
          ]
        }
      ]
    },
    {
      "cell_type": "code",
      "source": [
        "#PD Collisions\n",
        "y_data=df['PD_Collisions']\n",
        "#reduce number of columns so can take a bigger sample\n",
        "x_data=df.drop(['PD_Collisions','OBJECTID','OccurrenceDate','EventUniqueId','ObjectId2','X','Y','Year','Division','Longitude','Latitude','Atom'],axis=1)\n",
        "x_train, x_test, y_train, y_test = train_test_split(x_data, y_data ,test_size = 0.2, random_state=0)\n",
        "svclassifier = SVC(kernel='linear')\n",
        "svclassifier.fit(x_train, y_train)\n",
        "y_predict = svclassifier.predict(x_test)\n",
        "accuracy = accuracy_score(y_test,y_predict)\n",
        "print('PD Collisions')\n",
        "print('Accuracy is',accuracy)\n",
        "print(classification_report(y_test,y_predict))"
      ],
      "metadata": {
        "colab": {
          "base_uri": "https://localhost:8080/"
        },
        "id": "qpvUKTgFIUW9",
        "outputId": "a0de90b0-d6a9-484c-cc24-509494654c68"
      },
      "execution_count": 5,
      "outputs": [
        {
          "output_type": "stream",
          "name": "stdout",
          "text": [
            "PD Collisions\n",
            "Accuracy is 0.9686\n",
            "              precision    recall  f1-score   support\n",
            "\n",
            "           0       1.00      0.96      0.98      3856\n",
            "           1       0.88      1.00      0.94      1144\n",
            "\n",
            "    accuracy                           0.97      5000\n",
            "   macro avg       0.94      0.98      0.96      5000\n",
            "weighted avg       0.97      0.97      0.97      5000\n",
            "\n"
          ]
        }
      ]
    }
  ]
}